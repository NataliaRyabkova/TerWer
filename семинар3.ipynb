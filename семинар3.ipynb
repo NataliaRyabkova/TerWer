{
  "nbformat": 4,
  "nbformat_minor": 0,
  "metadata": {
    "colab": {
      "provenance": [],
      "authorship_tag": "ABX9TyOK5K+2z5fLWDVWnJCerz06"
    },
    "kernelspec": {
      "name": "python3",
      "display_name": "Python 3"
    },
    "language_info": {
      "name": "python"
    }
  },
  "cells": [
    {
      "cell_type": "code",
      "source": [
        "# Задача 1. Даны значения зарплат из выборки выпускников: 100, 80, 75, 77, 89, 33, 45, 25, 65, 17, 30, 24, 57, 55, 70, 75, 65, 84, 90, 150. Посчитать \n",
        "# (желательно без использования статистических методов наподобие std, var, mean) среднее арифметическое, медиану, среднее квадратичное отклонение, \n",
        "# смещенную и несмещенную оценки дисперсий для данной выборки, интерквартильное расстояние. Вывести график boxplot по выборке.\n",
        "from math import factorial\n",
        "import numpy as np\n",
        "import seaborn as sns\n",
        "s = np.array([100, 80, 75, 77, 89, 33, 45, 25, 65, 17, 30, 24, 57, 55, 70, 75, 65, 84, 90, 150]) \n",
        "s.sort()\n",
        "print(s)\n",
        "# Cреднее арифметическое\n",
        "sr=s.sum()/s.size\n",
        "# Проверка\n",
        "srp=s.mean()\n",
        "print('Cреднее арифметическое:',sr, 'Проверка:',srp)\n",
        " \n",
        "# Медианна:\n",
        "n=s.shape[0]\n",
        "Med = (s[int(n/2)-1] + s[int(n/2)])/2\n",
        "# Проверка\n",
        "Med1 = np.median(s)\n",
        "print('Медианна:',Med, 'Проверка:',Med1)\n",
        "\n",
        "# Среднеквадратичное отклонение\n",
        "# Массив квадратов разности\n",
        "sq=(s-sr)**2\n",
        "Sqv=(sq.sum()/s.size)**0.5\n",
        "# Проверка\n",
        "Sqv1=s.std()\n",
        "print('Среднеквадратичное отклонение:',Sqv, 'Проверка:',Sqv1)\n",
        "\n",
        "# Дисперсия смещенная \n",
        "Var=sq.sum()/s.size\n",
        "# Проверка\n",
        "Var1=s.var()\n",
        "print('Дисперсия смещенная:',Var, 'Проверка:',Var1)\n",
        "\n",
        "# Дисперсия не смещенная \n",
        "Varn=sq.sum()/(s.size-1)\n",
        "# Проверка\n",
        "Varn1=s.var(ddof=1)\n",
        "print('Дисперсия не смещенная:',Varn, 'Проверка:',Varn1)\n",
        "\n",
        "# Интерквартильное расстояние\n",
        "# Первый квартиль\n",
        "k_1 = 25\n",
        "m = k_1*n/100\n",
        "print(m)\n",
        "j_1=(s[int(m-1)] + s[int(m)])/2\n",
        "print('Первый квартиль',j_1)\n",
        "# Третий квартиль\n",
        "k_3 = 75\n",
        "m1 = k_3*n/100\n",
        "j_3=(s[int(m1-1)] + s[int(m1)])/2\n",
        "print('Третий квартиль',j_3)\n",
        "I = j_3 - j_1\n",
        "print('Интерквартильное расстояние',I)\n",
        "print()\n",
        "print ('Рассчет с поимощью статистических методов:')\n",
        "J_1 = np.percentile (s, 25) \n",
        "print('Первый квартиль',J_1)\n",
        "J_3 = np.percentile (s, 75) \n",
        "print('Третий квартиль',J_3)\n",
        "J_3, J_1 = np.percentile (s, [75 ,25])\n",
        "I1 = J_3-J_1\n",
        "print('Интерквартильное расстояние',I1)\n",
        "sns.boxplot(data = s)"
      ],
      "metadata": {
        "colab": {
          "base_uri": "https://localhost:8080/",
          "height": 560
        },
        "id": "s4rHXKFQt8zt",
        "outputId": "8f2203bf-e922-45a5-fc64-732efaef8502"
      },
      "execution_count": 61,
      "outputs": [
        {
          "output_type": "stream",
          "name": "stdout",
          "text": [
            "[ 17  24  25  30  33  45  55  57  65  65  70  75  75  77  80  84  89  90\n",
            " 100 150]\n",
            "Cреднее арифметическое: 65.3 Проверка: 65.3\n",
            "Медианна: 67.5 Проверка: 67.5\n",
            "Среднеквадратичное отклонение: 30.823854398825592 Проверка: 30.823854398825592\n",
            "Дисперсия смещенная: 950.1099999999999 Проверка: 950.1099999999999\n",
            "Дисперсия не смещенная: 1000.115789473684 Проверка: 1000.115789473684\n",
            "5.0\n",
            "Первый квартиль 39.0\n",
            "Третий квартиль 82.0\n",
            "Интерквартильное расстояние 43.0\n",
            "\n",
            "Рассчет с поимощью статистических методов:\n",
            "Первый квартиль 42.0\n",
            "Третий квартиль 81.0\n",
            "Интерквартильное расстояние 39.0\n"
          ]
        },
        {
          "output_type": "execute_result",
          "data": {
            "text/plain": [
              "<matplotlib.axes._subplots.AxesSubplot at 0x7fe4aecf0460>"
            ]
          },
          "metadata": {},
          "execution_count": 61
        },
        {
          "output_type": "display_data",
          "data": {
            "text/plain": [
              "<Figure size 432x288 with 1 Axes>"
            ],
            "image/png": "[encoded data removed]"
          },
          "metadata": {
            "needs_background": "light"
          }
        }
      ]
    },
    {
      "cell_type": "code",
      "source": [
        "# Задача 2.В первом ящике находится 8 мячей, из которых 5 - белые. Во втором ящике - 12 мячей, из которых 5 белых. Из первого ящика вытаскивают случайным образом два мяча,\n",
        "# из второго - 4. Какова вероятность того, что 3 мяча белые?\n",
        "# Варианты трех белых мячей из 4 выбранных: 1) 2 из двух белые и 1 из четырех белый, 2) 1 из двух белый и 2 из четырех белые, 3)0 из двух белые и 3 из четырех белые\n",
        "#Общее сочетание:\n",
        "C1=factorial(8)/(factorial(2)*factorial(8-2))\n",
        "C2=factorial(12)/(factorial(4)*factorial(12-4))\n",
        "# 1) 2 из двух белые и 1 из четырех белый\n",
        "A1=factorial(5)/(factorial(2)*factorial(5-2))\n",
        "A2=factorial(5)/(factorial(1)*factorial(5-1))\n",
        "B2 = factorial(7)/(factorial(3)*factorial(7-3))\n",
        "P1=A1/C1\n",
        "P2=A2*B2/C2\n",
        "Pa=P1*P2\n",
        "\n",
        "# 2) 1 из двух белый и 2 из четырех белые\n",
        "A1=factorial(5)/(factorial(1)*factorial(5-1))\n",
        "A2=factorial(3)/(factorial(1)*factorial(3-1))\n",
        "B1 = factorial(5)/(factorial(2)*factorial(5-2))\n",
        "B2 = factorial(7)/(factorial(2)*factorial(7-2))\n",
        "P1=A1*B1/C1\n",
        "P2=A2*B2/C2\n",
        "Pb=P1*P2\n",
        "\n",
        "# 3)0 из двух белые и 3 из четырех белые\n",
        "B1=factorial(3)/(factorial(2)*factorial(3-2))\n",
        "A2=factorial(5)/(factorial(3)*factorial(5-3))\n",
        "B2 = factorial(7)/(factorial(1)*factorial(7-1))\n",
        "P1=B1/C1\n",
        "P2=A2*B2/C2\n",
        "Pc=P1*P2\n",
        "\n",
        "P=Pa+Pb+Pc\n",
        "print('Вероятность того, что 3 мяча белые',P)\n",
        "print()\n"
      ],
      "metadata": {
        "colab": {
          "base_uri": "https://localhost:8080/"
        },
        "id": "6mv0YXkn97X9",
        "outputId": "44b170dc-43c4-441e-a3df-6626c3b8ee49"
      },
      "execution_count": 19,
      "outputs": [
        {
          "output_type": "stream",
          "name": "stdout",
          "text": [
            "Вероятность того, что 3 мяча белые 0.3686868686868687\n",
            "\n"
          ]
        }
      ]
    },
    {
      "cell_type": "code",
      "source": [
        "# # Задача 3. На соревновании по биатлону один из трех спортсменов стреляет и попадает в мишень. Вероятность попадания для первого спортсмена равна 0.9, для второго — 0.8,\n",
        "# для третьего — 0.6. Найти вероятность того, что выстрел произведен: a). первым спортсменом б). вторым спортсменом в). третьим спортсменом.\n",
        "# Вероятность попадания в мишень каждым спортсменом равновероятны И равны 1/3. \n",
        "\n",
        "P_popadanie = 0.33*0.9+0.33*0.8+0.33*0.6\n",
        "P_pervii = 0.33*0.9/P_popadanie\n",
        "P_vtoroi = 0.33*0.8/P_popadanie\n",
        "P_tretii = 0.33*0.6/P_popadanie\n",
        "print (P_pervii)\n",
        "print (P_vtoroi)\n",
        "print (P_tretii)"
      ],
      "metadata": {
        "colab": {
          "base_uri": "https://localhost:8080/"
        },
        "id": "PlsC2lOjYFD2",
        "outputId": "8866862f-e475-4d44-f278-556eaea53972"
      },
      "execution_count": 20,
      "outputs": [
        {
          "output_type": "stream",
          "name": "stdout",
          "text": [
            "0.391304347826087\n",
            "0.3478260869565217\n",
            "0.2608695652173913\n"
          ]
        }
      ]
    },
    {
      "cell_type": "code",
      "source": [
        "# Задача 4. В университет на факультеты A и B поступило равное количество студентов, а на факультет C студентов поступило столько же, сколько на A и B вместе. \n",
        "# Вероятность того, что студент факультета A сдаст первую сессию, равна 0.8. Для студента факультета B эта вероятность равна 0.7, а для студента факультета C - 0.9.\n",
        "# Студент сдал первую сессию. Какова вероятность, что он учится: a). на факультете A б). на факультете B в). на факультете C?\n",
        "# Вероятность, что случайный студент из факультета A или факультета В\n",
        "Pa=Pb=0.25\n",
        "# Вероятность, что случайный студент из факультета С\n",
        "Pc=0.5\n",
        "# Вероятность, что студент факультета A сдаст первую сессию \n",
        "pa=0.8\n",
        "# Вероятность, что студент факультета В сдаст первую сессию\n",
        "pb=0.7\n",
        "# Вероятность, что студент факультета С сдаст первую сессию\n",
        "pc=0.9\n",
        "\n",
        "# Количество студентов сдавших сессию, равна \n",
        "P_sdano=Pa*pa+Pb*pb+Pc*pc\n",
        "\n",
        "# a) Вероятность того, что сдавший студент из факультета А\n",
        "Pa_sdano=Pa*pa/P_sdano\n",
        "print(\"Вероятность того, что сдавший студент из факультета A\",Pa_sdano)\n",
        "\n",
        "# a) Вероятность того, что сдавший студент из факультета B\n",
        "Pb_sdano=Pb*pb/P_sdano\n",
        "print(\"Вероятность того, что сдавший студент из факультета B\",Pb_sdano)\n",
        "\n",
        "# a) Вероятность того, что сдавший студент из факультета C\n",
        "Pc_sdano=Pc*pc/P_sdano\n",
        "print(\"Вероятность того, что сдавший студент из факультета C\",Pc_sdano)\n"
      ],
      "metadata": {
        "colab": {
          "base_uri": "https://localhost:8080/"
        },
        "id": "KcWpoxZKg94g",
        "outputId": "3e695511-1b56-42bd-b850-c75664a08bfe"
      },
      "execution_count": 22,
      "outputs": [
        {
          "output_type": "stream",
          "name": "stdout",
          "text": [
            "Вероятность того, что сдавший студент из факультета A 0.24242424242424246\n",
            "Вероятность того, что сдавший студент из факультета B 0.21212121212121213\n",
            "Вероятность того, что сдавший студент из факультета C 0.5454545454545455\n"
          ]
        }
      ]
    },
    {
      "cell_type": "code",
      "source": [
        "# Задача 5. Устройство состоит из трех деталей. Для первой детали вероятность выйти из строя в первый месяц равна 0.1, для второй - 0.2, для третьей - 0.25. \n",
        "# Какова вероятность того, что в первый месяц выйдут из строя: а). все детали б). только две детали в). хотя бы одна деталь г). от одной до двух деталей?\n",
        "# Вероятность выхода из строя в 1 месяц 1 детали:\n",
        "P1=0.1\n",
        "# Вероятность выхода из строя в 1 месяц 2 детали:\n",
        "P2=0.2\n",
        "# Вероятность выхода из строя в 1 месяц 3 детали:\n",
        "P3=0.25\n",
        "\n",
        "#  а). все детали\n",
        "P_vse=P1*P2*P3\n",
        "print(\"Вероятность выхода из строя всех деталей\",P_vse)\n",
        "\n",
        "# б). только две детали\n",
        "P12=P1*P2*(1-P3)\n",
        "P13=P1*(1-P2)*P3\n",
        "P23=(1-P1)*P2*P3\n",
        "P_dve=P12+P13+P23\n",
        "print(\"Вероятность выхода из строя 2х деталей\",P_dve)\n",
        "\n",
        "# в). хотя бы одна деталь\n",
        "# Найдем вероятность что не выйдет ни одна деталь\n",
        "P_niodna = (1-P1)*(1-P2)*(1-P3)\n",
        "P_hotodna = 1-P_niodna\n",
        "print(\"Вероятность выхода хотя бы одной детали\",P_hotodna)\n",
        "\n",
        "# г). от одной до двух деталей\n",
        "P_odna = P1*(1-P2)*(1-P3)+(1-P1)*P2*(1-P3)+(1-P1)*(1-P2)*P3\n",
        "P1iz2 = P_odna+P_dve\n",
        "print(\"Вероятность выхода из строя от одной до двух деталей\",P1iz2)\n"
      ],
      "metadata": {
        "colab": {
          "base_uri": "https://localhost:8080/"
        },
        "id": "gZf1fMM8kqq_",
        "outputId": "6afa5c8f-d238-4592-9c93-4b1d1181a959"
      },
      "execution_count": 25,
      "outputs": [
        {
          "output_type": "stream",
          "name": "stdout",
          "text": [
            "Вероятность выхода из строя всех деталей 0.005000000000000001\n",
            "Вероятность выхода из строя 2х деталей 0.08000000000000002\n",
            "Вероятность выхода хотя бы одной детали 0.45999999999999996\n",
            "Вероятность выхода из строя от одной до двух деталей 0.455\n"
          ]
        }
      ]
    }
  ]
}