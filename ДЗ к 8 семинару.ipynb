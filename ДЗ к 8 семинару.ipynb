{
  "nbformat": 4,
  "nbformat_minor": 0,
  "metadata": {
    "colab": {
      "provenance": [],
      "authorship_tag": "ABX9TyMrN6I37wW/svELYM6xrA6M"
    },
    "kernelspec": {
      "name": "python3",
      "display_name": "Python 3"
    },
    "language_info": {
      "name": "python"
    }
  },
  "cells": [
    {
      "cell_type": "code",
      "source": [
        "# Задача 1.Даны значения величины заработной платы заемщиков банка (zp) и значения их поведенческого кредитного скоринга (ks):\n",
        "# zp = [35, 45, 190, 200, 40, 70, 54, 150, 120, 110],\n",
        "# ks = [401, 574, 874, 919, 459, 739, 653, 902, 746, 832].\n",
        "# Найдите ковариацию этих двух величин с помощью элементарных действий, а затем с помощью функции cov из numpy\n",
        "# Полученные значения должны быть равны.\n",
        "# Найдите коэффициент корреляции Пирсона с помощью ковариации и среднеквадратичных отклонений двух признаков,\n",
        "# а затем с использованием функций из библиотек.\n",
        "# Посчитать корреляцию Спирмена с помощью функции.\n",
        "\n",
        "import numpy as np\n",
        "import pandas as pd\n",
        "from scipy import stats\n",
        "import matplotlib.pyplot as plt\n",
        "zp = np.array([35, 45, 190, 200, 40, 70, 54, 150, 120, 110])\n",
        "ks = np.array([401, 574, 874, 919, 459, 739, 653, 902, 746, 832])\n",
        "# Построим график, чтобы определить есть ли зависимость между величиной заработной платы и поведенческого кредитного скоринга\n",
        "plt.scatter(zp,ks)\n",
        "plt.xlabel('Заработная плата')\n",
        "plt.ylabel('Ккредитный скоринг', rotation=90)\n",
        "plt.show()\n",
        "print ('Из графика видим, что есть прямая зависимость, чем больше заработная плата, тем больше кридитный скоринг')\n",
        "# Найдем ковариацию\n",
        "cov0=np.mean(zp*ks)-np.mean(zp)*np.mean(ks)\n",
        "# Через функцию cov\n",
        "cov=np.cov(zp,ks,ddof=0)\n",
        "print ('Ковариация равна', cov0)\n",
        "print ('Проверка', cov)\n",
        "# Найдем коэффициент корреляции Пирсона через ковариацию\n",
        "n = np.std(zp,ddof=0)\n",
        "n1 = np.std(ks,ddof=0)\n",
        "K = cov0/(n*n1)\n",
        "# через библиотеку numpy\n",
        "K1 = np.corrcoef(zp,ks)\n",
        "# через библиотеку pandas\n",
        "df=pd.DataFrame(data={'zp':zp, 'ks':ks})\n",
        "K2 = df.corr()\n",
        "S = stats.spearmanr(zp, ks)\n",
        "print ('Коэффициент Пирсона равен', K)\n",
        "print ('Проверка numpy')\n",
        "print (K1)\n",
        "print ('Проверка pandas')\n",
        "print (K2)\n",
        "print ('Kорреляцию Спирмена равна',S)"
      ],
      "metadata": {
        "colab": {
          "base_uri": "https://localhost:8080/",
          "height": 516
        },
        "id": "s4rHXKFQt8zt",
        "outputId": "db7dd36c-f712-41cf-9fa4-ec46953ceb8a"
      },
      "execution_count": 59,
      "outputs": [
        {
          "output_type": "display_data",
          "data": {
            "text/plain": [
              "<Figure size 432x288 with 1 Axes>"
            ],
            "image/png": "[encoded data removed]"
          },
          "metadata": {
            "needs_background": "light"
          }
        },
        {
          "output_type": "stream",
          "name": "stdout",
          "text": [
            "Из графика видим, что есть прямая зависимость, чем больше заработная плата, тем больше кридитный скоринг\n",
            "Ковариация равна 9157.839999999997\n",
            "Проверка [[ 3494.64  9157.84]\n",
            " [ 9157.84 30468.89]]\n",
            "Коэффициент Пирсона равен 0.8874900920739158\n",
            "Проверка numpy\n",
            "[[1.         0.88749009]\n",
            " [0.88749009 1.        ]]\n",
            "Проверка pandas\n",
            "         zp       ks\n",
            "zp  1.00000  0.88749\n",
            "ks  0.88749  1.00000\n",
            "Kорреляцию Спирмена равна SpearmanrResult(correlation=0.9757575757575757, pvalue=1.4675461874042197e-06)\n"
          ]
        }
      ]
    },
    {
      "cell_type": "code",
      "source": [
        "# Задача2. Измерены значения IQ выборки студентов,\n",
        "# обучающихся в местных технических вузах:\n",
        "# 131, 125, 115, 122, 131, 115, 107, 99, 125, 111.\n",
        "# Известно, что в генеральной совокупности IQ распределен нормально.\n",
        "# Найдите доверительный интервал для математического ожидания с надежностью 0.95.\n",
        "\n",
        "IQ=np.array([131, 125, 115, 122, 131, 115, 107, 99, 125, 111])\n",
        "p=0.95\n",
        "n=len(IQ)\n",
        "M = IQ.mean()\n",
        "std = IQ.std(ddof=1)\n",
        "print (f'Среднее выборочное: {M}' ,f'Размер выборки: {n}',f'Среднее квадратическое отклонение: {std}.')\n",
        "a=1-p\n",
        "t = stats.t.ppf(1 - a / 2, df=n - 1)\n",
        "print ('t-критерий равен:',t)\n",
        "# Рассчитаем доверительный интервал:\n",
        "x1=M - t * std / np.sqrt(n)\n",
        "x2=M + t * std / np.sqrt(n)\n",
        "print(f'Доверительный интервал равен: [{x1};{x2}].')"
      ],
      "metadata": {
        "colab": {
          "base_uri": "https://localhost:8080/"
        },
        "id": "6mv0YXkn97X9",
        "outputId": "9d507f48-ae82-4703-b6cd-37311430cdf2"
      },
      "execution_count": 60,
      "outputs": [
        {
          "output_type": "stream",
          "name": "stdout",
          "text": [
            "Среднее выборочное: 118.1 Размер выборки: 10 Среднее квадратическое отклонение: 10.54566788359614.\n",
            "t-критерий равен: 2.2621571627409915\n",
            "Доверительный интервал равен: [110.55608365158724;125.64391634841274].\n"
          ]
        }
      ]
    },
    {
      "cell_type": "code",
      "source": [
        "# Задача 3. Известно, что рост футболистов в сборной распределен нормально\n",
        "# с дисперсией генеральной совокупности, равной 25 кв.см. Объем выборки равен 27,\n",
        "# среднее выборочное составляет 174.2. Найдите доверительный интервал для математического\n",
        "# ожидания с надежностью 0.95.\n",
        "\n",
        "D=25\n",
        "n=27\n",
        "M=174.2\n",
        "s = sqrt(D)\n",
        "p=0.95\n",
        "a=1-p\n",
        "x1=M-(stats.norm.ppf(1 - a/2)*D**0.5)/n**0.5\n",
        "x2=M+(stats.norm.ppf(1 - a/2)*D**0.5)/n**0.5\n",
        "print(f'Доверительный интервал равен: [{x1};{x2}].')"
      ],
      "metadata": {
        "colab": {
          "base_uri": "https://localhost:8080/"
        },
        "id": "PlsC2lOjYFD2",
        "outputId": "468a03c2-d53c-4fa3-841a-390ed97f0444"
      },
      "execution_count": 61,
      "outputs": [
        {
          "output_type": "stream",
          "name": "stdout",
          "text": [
            "Доверительный интервал равен: [172.3140237765397;176.08597622346028].\n"
          ]
        }
      ]
    }
  ]
}
