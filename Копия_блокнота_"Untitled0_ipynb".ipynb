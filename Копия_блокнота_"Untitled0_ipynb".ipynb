{
  "nbformat": 4,
  "nbformat_minor": 0,
  "metadata": {
    "colab": {
      "provenance": [],
      "authorship_tag": "ABX9TyPgenipBME5LvQe+J4H76OR",
      "include_colab_link": true
    },
    "kernelspec": {
      "name": "python3",
      "display_name": "Python 3"
    },
    "language_info": {
      "name": "python"
    }
  },
  "cells": [
    {
      "cell_type": "markdown",
      "metadata": {
        "id": "view-in-github",
        "colab_type": "text"
      },
      "source": [
        "<a href=\"https://colab.research.google.com/github/NataliaRyabkova/TerWer/blob/main/%D0%9A%D0%BE%D0%BF%D0%B8%D1%8F_%D0%B1%D0%BB%D0%BE%D0%BA%D0%BD%D0%BE%D1%82%D0%B0_%22Untitled0_ipynb%22.ipynb\" target=\"_parent\"><img src=\"https://colab.research.google.com/assets/colab-badge.svg\" alt=\"Open In Colab\"/></a>"
      ]
    },
    {
      "cell_type": "code",
      "source": [
        "# Задача 5. На соревновании по биатлону один из трех спортсменов стреляет и попадает в мишень. Вероятность попадания для первого спортсмена равна 0.9, для второго — 0.8,\n",
        "# для третьего — 0.6. Найти вероятность того, что выстрел произведен: a). первым спортсменом б). вторым спортсменом в). третьим спортсменом.\n",
        "# Вероятность попадания в мишень каждым спортсменом равновероятны И равны 1/3. \n",
        "\n",
        "P_popadanie = 0.33*0.9+0.33*0.8+0.33*0.6\n",
        "P_pervii = 0.33*0.9/P_popadanie\n",
        "P_vtoroi = 0.33*0.8/P_popadanie\n",
        "P_tretii = 0.33*0.6/P_popadanie\n",
        "print (P_pervii)\n",
        "print (P_vtoroi)\n",
        "print (P_tretii)"
      ],
      "metadata": {
        "colab": {
          "base_uri": "https://localhost:8080/"
        },
        "id": "s4rHXKFQt8zt",
        "outputId": "aa11bf1f-7a01-41e6-e5b6-e97e4410aa52"
      },
      "execution_count": 4,
      "outputs": [
        {
          "output_type": "stream",
          "name": "stdout",
          "text": [
            "0.391304347826087\n",
            "0.3478260869565217\n",
            "0.2608695652173913\n"
          ]
        }
      ]
    }
  ]
}