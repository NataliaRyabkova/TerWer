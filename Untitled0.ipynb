{
  "nbformat": 4,
  "nbformat_minor": 0,
  "metadata": {
    "colab": {
      "provenance": [],
      "authorship_tag": "ABX9TyMDb9hwN1MzQMVdttBEHgvf"
    },
    "kernelspec": {
      "name": "python3",
      "display_name": "Python 3"
    },
    "language_info": {
      "name": "python"
    }
  },
  "cells": [
    {
      "cell_type": "code",
      "source": [
        "# Задача 1. Из колоды в 52 карты извлекаются случайным образом 4 карты.a)Найти вероятность того, что все карты – крести.б)Найти вероятность, что среди 4-х карт окажется хотя бы один туз.\n",
        "# Вероятность того, что все карты крести:\n",
        "# Общее число  способов выбрать 4 карты из  52 равно числу сочетаний по 52 по 4, благоприятствующее число способов, что все четыре карты крести = числу сочетаний по 13 по 4, \n",
        "# так как у нас 13 крестовых карт. Вероятность равна благоприпятствующее число способов разделить на общее число способов выбрать 4 карты из 52.\n",
        "from math import factorial\n",
        "N_good = factorial(13)/(factorial(4)*factorial(9))\n",
        "N_vsego = factorial(52)/(factorial(4)*factorial(48))\n",
        "P = N_good/N_vsego\n",
        "print (P)"
      ],
      "metadata": {
        "colab": {
          "base_uri": "https://localhost:8080/"
        },
        "id": "s4rHXKFQt8zt",
        "outputId": "99a39c65-3003-4f3f-a8d5-687bce856146"
      },
      "execution_count": null,
      "outputs": [
        {
          "output_type": "stream",
          "name": "stdout",
          "text": [
            "0.0026410564225690276\n"
          ]
        }
      ]
    },
    {
      "cell_type": "code",
      "source": [
        "# Вероятность, что среди 4-х карт окажется хотя бы один туз, найдем сначала вероятность противоположного события, что среди всех 4 карт нет туза.\n",
        "# Общее число  способов выбрать 4 карты из  52 равно числу сочетаний по 52 по 4, благоприятствующее число способов, число способов вынуть 4 карты из 48,\n",
        "# среди которых нет тузов. Вероятность события, что появится хотя бы один туз равна 1 - вероятность противоположного события.\n",
        "N_vsego=factorial(52)/(factorial(4)*factorial(48))\n",
        "N_good=factorial(48)/(factorial(4)*factorial(44))\n",
        "N_protiv=factorial(48)*factorial(4)*factorial(48)/(factorial(4)*factorial(44)*factorial(52))\n",
        "P =1-N_protiv\n",
        "print (P)\n",
        "\n"
      ],
      "metadata": {
        "colab": {
          "base_uri": "https://localhost:8080/"
        },
        "id": "6mv0YXkn97X9",
        "outputId": "48187b8d-302d-4f60-883a-69653b8a8c76"
      },
      "execution_count": null,
      "outputs": [
        {
          "output_type": "stream",
          "name": "stdout",
          "text": [
            "0.2812632745405854\n"
          ]
        }
      ]
    },
    {
      "cell_type": "code",
      "source": [
        "# Задача 2. На входной двери подъезда установлен кодовый замок, содержащий десять кнопок с цифрами от 0 до 9. Код содержит три цифры, которые нужно нажать одновременно.\n",
        "# Какова вероятность того, что человек, не знающий код, откроет дверь с первой попытки? Вероятность благоприпятствующего события = 1, вероятность общего числа событий\n",
        "# равна числу сочетаний по 10 по 3.\n",
        "\n",
        "N_good = 1\n",
        "N_vsego = factorial(10)/(factorial(3)*factorial(7))\n",
        "P = N_good/N_vsego\n",
        "print (P)\n"
      ],
      "metadata": {
        "colab": {
          "base_uri": "https://localhost:8080/"
        },
        "id": "PlsC2lOjYFD2",
        "outputId": "2057e79c-a679-4979-f784-47ae6582480a"
      },
      "execution_count": null,
      "outputs": [
        {
          "output_type": "stream",
          "name": "stdout",
          "text": [
            "0.008333333333333333\n"
          ]
        }
      ]
    },
    {
      "cell_type": "code",
      "source": [
        "# Задача 3. В ящике имеется 15 деталей, из которых 9 окрашены. Рабочий случайным образом извлекает 3 детали. Какова вероятность того, что все извлеченные детали окрашены?\n",
        "# Общее число  способов выбрать 3 детали  из 15 равно числу сочетаний по 15 по 3, благоприятствующее число способов, что все детали окрашены = числу сочетаний по 9 по 3, \n",
        "# вероятность равна благоприпятствующее число способов разделить на общее число способов.\n",
        "\n",
        "N_good = factorial(9)/(factorial(3)*factorial(6))\n",
        "N_vsego = factorial(15)/(factorial(3)*factorial(12))\n",
        "P = N_good/N_vsego\n",
        "print (P)\n"
      ],
      "metadata": {
        "colab": {
          "base_uri": "https://localhost:8080/"
        },
        "id": "KcWpoxZKg94g",
        "outputId": "11878235-fa41-47e3-bfdd-d23d04c82cb2"
      },
      "execution_count": null,
      "outputs": [
        {
          "output_type": "stream",
          "name": "stdout",
          "text": [
            "0.18461538461538463\n"
          ]
        }
      ]
    },
    {
      "cell_type": "code",
      "source": [
        "# Задача 4. В лотерее 100 билетов. Из них 2 выигрышных. Какова вероятность того, что 2 приобретенных билета окажутся выигрышными? Число благоприятствующих событий равно 1,\n",
        "# общее число способов выбрать 2 выигрышных билета из 100 равно числу сочетаний по 100 по 2.\n",
        "N_good = 1\n",
        "N_vsego = factorial(100)/(factorial(2)*factorial(98))\n",
        "P = N_good/N_vsego\n",
        "print (P)"
      ],
      "metadata": {
        "colab": {
          "base_uri": "https://localhost:8080/"
        },
        "id": "gZf1fMM8kqq_",
        "outputId": "5edb5ebd-7866-42e2-b52c-57e0b8c3e14d"
      },
      "execution_count": null,
      "outputs": [
        {
          "output_type": "stream",
          "name": "stdout",
          "text": [
            "0.00020202020202020202\n"
          ]
        }
      ]
    }
  ]
}