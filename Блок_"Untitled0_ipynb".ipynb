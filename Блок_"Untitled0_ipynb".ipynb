{
  "nbformat": 4,
  "nbformat_minor": 0,
  "metadata": {
    "colab": {
      "provenance": [],
      "authorship_tag": "ABX9TyOQTVVScYRVXRlvwxmBSdTo"
    },
    "kernelspec": {
      "name": "python3",
      "display_name": "Python 3"
    },
    "language_info": {
      "name": "python"
    }
  },
  "cells": [
    {
      "cell_type": "code",
      "source": [
        "# Задача 1. Вероятность того, что стрелок попадет в мишень, выстрелив один раз, равна 0.8. Стрелок выстрелил 100 раз. Найдите вероятность того, что стрелок попадет в цель\n",
        "# ровно 85 раз. Рассчитаем с помощью формулы Бернулли:\n",
        "import math\n",
        "from math import factorial\n",
        "from scipy.stats import  binom\n",
        "n=100\n",
        "m=85\n",
        "p=0.8\n",
        "q=1-p\n",
        "С = factorial(n)/(factorial(m)*factorial(n-m))\n",
        "Px = С * p ** m * q ** (n - m)\n",
        "print(Px)\n",
        "print()\n",
        "\n",
        "# Или второй варинт рещения.\n",
        "P = binom.pmf(85,100,0.8)\n",
        "print ('Второй вариант решения:')\n",
        "print(P)"
      ],
      "metadata": {
        "colab": {
          "base_uri": "https://localhost:8080/"
        },
        "id": "s4rHXKFQt8zt",
        "outputId": "fc1ac84f-fd15-4766-9e38-f17b11972762"
      },
      "execution_count": 54,
      "outputs": [
        {
          "output_type": "stream",
          "name": "stdout",
          "text": [
            "0.048061793700746355\n",
            "\n",
            "Второй вариант решения:\n",
            "0.0480617937007464\n"
          ]
        }
      ]
    },
    {
      "cell_type": "code",
      "source": [
        "# Задача 2. Вероятность того, что лампочка перегорит в течение первого дня эксплуатации, равна 0.0004. В жилом комплексе после ремонта в один день включили 5000 новых \n",
        "#  лампочек. Какова вероятность, что ни одна из них не перегорит в первый день? Какова вероятность, что перегорят ровно две?\n",
        "#  Для решения применим формулу Пуассона - P(m) = (l)**m/factorial(m)*e**(-l)\n",
        "from scipy.stats import  poisson\n",
        "n=5000\n",
        "p=0.0004\n",
        "m1=0\n",
        "m2=2\n",
        "l=n*p\n",
        "p1 = poisson.pmf(m1,l)\n",
        "p2 = poisson.pmf(m2,l)\n",
        "print(p1)\n",
        "print(p2)\n",
        "print()\n",
        "# Или второй варинт рещения.\n",
        "Pm1 = (l)**m1/factorial(m1)*math.e**(-l)\n",
        "Pm2 = (l)**m2/factorial(m2)*math.e**(-l)\n",
        "print ('Второй вариант решения:')\n",
        "print(Pm1)\n",
        "print(Pm2)"
      ],
      "metadata": {
        "colab": {
          "base_uri": "https://localhost:8080/"
        },
        "id": "PlsC2lOjYFD2",
        "outputId": "77f42c00-3136-423a-e122-6adcb55da9f5"
      },
      "execution_count": 52,
      "outputs": [
        {
          "output_type": "stream",
          "name": "stdout",
          "text": [
            "0.1353352832366127\n",
            "0.2706705664732254\n",
            "\n",
            "Второй вариант решения:\n",
            "0.1353352832366127\n",
            "0.2706705664732254\n"
          ]
        }
      ]
    },
    {
      "cell_type": "code",
      "source": [
        "# Задача 3. Монету подбросили 144 раза. Какова вероятность, что орел выпадет ровно 70 раз? \n",
        "n=144\n",
        "m=70\n",
        "p=0.5\n",
        "\n",
        "p = binom.pmf(m,n,p)\n",
        "print (p)"
      ],
      "metadata": {
        "colab": {
          "base_uri": "https://localhost:8080/"
        },
        "id": "KcWpoxZKg94g",
        "outputId": "f2e932c6-058f-4f5f-9c31-afec9dbb0f55"
      },
      "execution_count": 28,
      "outputs": [
        {
          "output_type": "stream",
          "name": "stdout",
          "text": [
            "0.06281178035144772\n"
          ]
        }
      ]
    },
    {
      "cell_type": "code",
      "source": [
        "#Задача 4. В первом ящике находится 10 мячей, из которых 7 - белые. Во втором ящике - 11 мячей, из которых 9 белых. Из каждого ящика вытаскивают случайным образом по два мяча.\n",
        "# Какова вероятность того, что все мячи белые? Какова вероятность того, что ровно два мяча белые? Какова вероятность того, что хотя бы один мяч белый?\n",
        "# Вероятность того, что все мячи белые - 2 из 1 ящика + 2 из второго ящика.\n",
        "# С = factorial(n)/(factorial(m)*factorial(n-m))\n",
        "#Общее сочетание:\n",
        "C1=factorial(10)/(factorial(2)*factorial(10-2))\n",
        "C2=factorial(11)/(factorial(2)*factorial(11-2))\n",
        "# Количество вариантов белых среди белых.\n",
        "A1=factorial(7)/(factorial(2)*factorial(7-2))\n",
        "A2=factorial(9)/(factorial(2)*factorial(9-2))\n",
        "P1=A1/C1\n",
        "P2=A2/C2\n",
        "P=P1*P2\n",
        "print('Вероятность того, что все мячи белые',P)\n",
        "print()\n",
        "#  Какова вероятность того, что ровно два мяча белые?\n",
        "# a) 2 из  первого ящика + 0 из второго\n",
        "# b) 1 из первого ящика + 1 из второго\n",
        "# c) 0 из первого ящика  + 2 из второго\n",
        "\n",
        "A1 = factorial(7)/(factorial(2)*factorial(7-2))\n",
        "A2 = factorial(9)/(factorial(0)*factorial(9-0))\n",
        "P1=A1/C1\n",
        "P2=A2/C2\n",
        "Pa=P1*P2\n",
        "\n",
        "A1 = factorial(7)/(factorial(1)*factorial(7-1))\n",
        "A2 = factorial(9)/(factorial(1)*factorial(9-1))\n",
        "B1 = factorial(3)/(factorial(1)*factorial(3-1))\n",
        "B2 = factorial(2)/(factorial(1)*factorial(2-1))\n",
        "P1=A1*B1/C1\n",
        "P2=A2*B2/C2\n",
        "Pb=P1*P2\n",
        "\n",
        "A1 = factorial(7)/(factorial(0)*factorial(7-0))\n",
        "A2 = factorial(9)/(factorial(2)*factorial(9-2))\n",
        "P1=A1/C1\n",
        "P2=A2/C2\n",
        "Pc=P1*P2\n",
        "\n",
        "Pv=Pa+Pb+Pc\n",
        "print('Вероятность того, что ровно два мяча белые',Pv)\n",
        "print()\n",
        "\n",
        "# Какова вероятность того, что хотя бы один мяч белый?\n",
        "B1 = factorial(3)/(factorial(2)*factorial(3-2))\n",
        "B2 = factorial(2)/(factorial(2)*factorial(2-2))\n",
        "P1=B1/C1\n",
        "P2=B2/C2\n",
        "P=1-P1*P2\n",
        "print('Вероятность того, что хотя бы один мяч белый',P)"
      ],
      "metadata": {
        "colab": {
          "base_uri": "https://localhost:8080/"
        },
        "id": "gZf1fMM8kqq_",
        "outputId": "500d60ad-1266-4ebb-8777-85476804ec76"
      },
      "execution_count": 51,
      "outputs": [
        {
          "output_type": "stream",
          "name": "stdout",
          "text": [
            "Вероятность того, что все мячи белые 0.3054545454545455\n",
            "\n",
            "Вероятность того, что ровно два мяча белые 0.17575757575757578\n",
            "\n",
            "Вероятность того, что хотя бы один мяч белый 0.9987878787878788\n"
          ]
        }
      ]
    }
  ]
}